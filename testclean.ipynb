{
 "cells": [
  {
   "cell_type": "code",
   "execution_count": 4,
   "metadata": {},
   "outputs": [
    {
     "data": {
      "text/html": [
       "<div>\n",
       "<style scoped>\n",
       "    .dataframe tbody tr th:only-of-type {\n",
       "        vertical-align: middle;\n",
       "    }\n",
       "\n",
       "    .dataframe tbody tr th {\n",
       "        vertical-align: top;\n",
       "    }\n",
       "\n",
       "    .dataframe thead th {\n",
       "        text-align: right;\n",
       "    }\n",
       "</style>\n",
       "<table border=\"1\" class=\"dataframe\">\n",
       "  <thead>\n",
       "    <tr style=\"text-align: right;\">\n",
       "      <th></th>\n",
       "      <th>Enter Room</th>\n",
       "      <th>Exit Room</th>\n",
       "      <th>Room</th>\n",
       "      <th>Team</th>\n",
       "      <th>Category</th>\n",
       "    </tr>\n",
       "  </thead>\n",
       "  <tbody>\n",
       "    <tr>\n",
       "      <th>0</th>\n",
       "      <td>02-01-2020 09:00</td>\n",
       "      <td>02-01-2020 12:59</td>\n",
       "      <td>X</td>\n",
       "      <td>Beta</td>\n",
       "      <td>IV</td>\n",
       "    </tr>\n",
       "    <tr>\n",
       "      <th>1</th>\n",
       "      <td>02-01-2020 13:15</td>\n",
       "      <td>02-01-2020 17:49</td>\n",
       "      <td>X</td>\n",
       "      <td>Beta</td>\n",
       "      <td>IV</td>\n",
       "    </tr>\n",
       "    <tr>\n",
       "      <th>2</th>\n",
       "      <td>02-01-2020 09:22</td>\n",
       "      <td>02-01-2020 15:57</td>\n",
       "      <td>Y</td>\n",
       "      <td>Beta</td>\n",
       "      <td>IV</td>\n",
       "    </tr>\n",
       "    <tr>\n",
       "      <th>3</th>\n",
       "      <td>03-01-2020 09:56</td>\n",
       "      <td>03-01-2020 13:47</td>\n",
       "      <td>X</td>\n",
       "      <td>Alpha</td>\n",
       "      <td>III</td>\n",
       "    </tr>\n",
       "    <tr>\n",
       "      <th>4</th>\n",
       "      <td>03-01-2020 08:51</td>\n",
       "      <td>03-01-2020 13:49</td>\n",
       "      <td>Y</td>\n",
       "      <td>Beta</td>\n",
       "      <td>IV</td>\n",
       "    </tr>\n",
       "  </tbody>\n",
       "</table>\n",
       "</div>"
      ],
      "text/plain": [
       "         Enter Room         Exit Room Room   Team Category\n",
       "0  02-01-2020 09:00  02-01-2020 12:59    X   Beta       IV\n",
       "1  02-01-2020 13:15  02-01-2020 17:49    X   Beta       IV\n",
       "2  02-01-2020 09:22  02-01-2020 15:57    Y   Beta       IV\n",
       "3  03-01-2020 09:56  03-01-2020 13:47    X  Alpha      III\n",
       "4  03-01-2020 08:51  03-01-2020 13:49    Y   Beta       IV"
      ]
     },
     "execution_count": 4,
     "metadata": {},
     "output_type": "execute_result"
    }
   ],
   "source": [
    "import pandas as pd\n",
    "\n",
    "df = pd.read_csv('C:/Users/thous/OneDrive/Desktop/NUH/test.csv', encoding= 'utf-8')\n",
    "\n",
    "df.head()"
   ]
  },
  {
   "cell_type": "code",
   "execution_count": 5,
   "metadata": {},
   "outputs": [
    {
     "data": {
      "text/html": [
       "<div>\n",
       "<style scoped>\n",
       "    .dataframe tbody tr th:only-of-type {\n",
       "        vertical-align: middle;\n",
       "    }\n",
       "\n",
       "    .dataframe tbody tr th {\n",
       "        vertical-align: top;\n",
       "    }\n",
       "\n",
       "    .dataframe thead th {\n",
       "        text-align: right;\n",
       "    }\n",
       "</style>\n",
       "<table border=\"1\" class=\"dataframe\">\n",
       "  <thead>\n",
       "    <tr style=\"text-align: right;\">\n",
       "      <th></th>\n",
       "      <th>Enter Room</th>\n",
       "      <th>Exit Room</th>\n",
       "      <th>Room</th>\n",
       "      <th>Team</th>\n",
       "      <th>Category</th>\n",
       "      <th>Entertime</th>\n",
       "      <th>Exittime</th>\n",
       "    </tr>\n",
       "  </thead>\n",
       "  <tbody>\n",
       "    <tr>\n",
       "      <th>0</th>\n",
       "      <td>02-01-2020</td>\n",
       "      <td>02-01-2020</td>\n",
       "      <td>X</td>\n",
       "      <td>Beta</td>\n",
       "      <td>IV</td>\n",
       "      <td>09:00</td>\n",
       "      <td>12:59</td>\n",
       "    </tr>\n",
       "    <tr>\n",
       "      <th>1</th>\n",
       "      <td>02-01-2020</td>\n",
       "      <td>02-01-2020</td>\n",
       "      <td>X</td>\n",
       "      <td>Beta</td>\n",
       "      <td>IV</td>\n",
       "      <td>13:15</td>\n",
       "      <td>17:49</td>\n",
       "    </tr>\n",
       "    <tr>\n",
       "      <th>2</th>\n",
       "      <td>02-01-2020</td>\n",
       "      <td>02-01-2020</td>\n",
       "      <td>Y</td>\n",
       "      <td>Beta</td>\n",
       "      <td>IV</td>\n",
       "      <td>09:22</td>\n",
       "      <td>15:57</td>\n",
       "    </tr>\n",
       "    <tr>\n",
       "      <th>3</th>\n",
       "      <td>03-01-2020</td>\n",
       "      <td>03-01-2020</td>\n",
       "      <td>X</td>\n",
       "      <td>Alpha</td>\n",
       "      <td>III</td>\n",
       "      <td>09:56</td>\n",
       "      <td>13:47</td>\n",
       "    </tr>\n",
       "    <tr>\n",
       "      <th>4</th>\n",
       "      <td>03-01-2020</td>\n",
       "      <td>03-01-2020</td>\n",
       "      <td>Y</td>\n",
       "      <td>Beta</td>\n",
       "      <td>IV</td>\n",
       "      <td>08:51</td>\n",
       "      <td>13:49</td>\n",
       "    </tr>\n",
       "  </tbody>\n",
       "</table>\n",
       "</div>"
      ],
      "text/plain": [
       "   Enter Room   Exit Room Room   Team Category Entertime Exittime\n",
       "0  02-01-2020  02-01-2020    X   Beta       IV     09:00    12:59\n",
       "1  02-01-2020  02-01-2020    X   Beta       IV     13:15    17:49\n",
       "2  02-01-2020  02-01-2020    Y   Beta       IV     09:22    15:57\n",
       "3  03-01-2020  03-01-2020    X  Alpha      III     09:56    13:47\n",
       "4  03-01-2020  03-01-2020    Y   Beta       IV     08:51    13:49"
      ]
     },
     "execution_count": 5,
     "metadata": {},
     "output_type": "execute_result"
    }
   ],
   "source": [
    "df[['Enter Room', 'Entertime']] = df['Enter Room'].str.split(' ', expand=True)\n",
    "df[['Exit Room', 'Exittime']] = df['Exit Room'].str.split(' ', expand=True)\n",
    "\n",
    "df.head()"
   ]
  },
  {
   "cell_type": "code",
   "execution_count": 6,
   "metadata": {},
   "outputs": [
    {
     "data": {
      "text/plain": [
       "False"
      ]
     },
     "execution_count": 6,
     "metadata": {},
     "output_type": "execute_result"
    }
   ],
   "source": [
    "df.isnull().values.any()"
   ]
  },
  {
   "cell_type": "code",
   "execution_count": 38,
   "metadata": {},
   "outputs": [
    {
     "data": {
      "text/plain": [
       "Enter Room    object\n",
       "Exit Room     object\n",
       "Room          object\n",
       "Team          object\n",
       "Category      object\n",
       "Entertime     object\n",
       "Exittime      object\n",
       "dtype: object"
      ]
     },
     "execution_count": 38,
     "metadata": {},
     "output_type": "execute_result"
    }
   ],
   "source": [
    "df.dtypes"
   ]
  },
  {
   "cell_type": "code",
   "execution_count": 28,
   "metadata": {},
   "outputs": [
    {
     "data": {
      "text/plain": [
       "True"
      ]
     },
     "execution_count": 28,
     "metadata": {},
     "output_type": "execute_result"
    }
   ],
   "source": [
    "df['Enter Room'].equals(df['Exit Room'])"
   ]
  },
  {
   "cell_type": "code",
   "execution_count": 39,
   "metadata": {},
   "outputs": [
    {
     "data": {
      "text/plain": [
       "Enter Room    datetime64[ns]\n",
       "Exit Room     datetime64[ns]\n",
       "Room                  object\n",
       "Team                  object\n",
       "Category              object\n",
       "Entertime     datetime64[ns]\n",
       "Exittime      datetime64[ns]\n",
       "dtype: object"
      ]
     },
     "execution_count": 39,
     "metadata": {},
     "output_type": "execute_result"
    }
   ],
   "source": [
    "df[\"Enter Room\"] = pd.to_datetime(df[\"Enter Room\"])\n",
    "df[\"Exit Room\"] = pd.to_datetime(df[\"Exit Room\"])\n",
    "df[\"Entertime\"] = pd.to_datetime(df[\"Entertime\"])\n",
    "df[\"Exittime\"] = pd.to_datetime(df[\"Exittime\"])\n",
    "df.dtypes"
   ]
  },
  {
   "cell_type": "code",
   "execution_count": 47,
   "metadata": {},
   "outputs": [
    {
     "name": "stdout",
     "output_type": "stream",
     "text": [
      "true\n"
     ]
    }
   ],
   "source": [
    "for index, row in df.iterrows():\n",
    "    if df.Entertime[index] > df.Exittime[index]:\n",
    "        print(\"false\")\n",
    "else:\n",
    "    print(\"true\")"
   ]
  },
  {
   "cell_type": "code",
   "execution_count": null,
   "metadata": {},
   "outputs": [],
   "source": []
  },
  {
   "cell_type": "code",
   "execution_count": null,
   "metadata": {},
   "outputs": [],
   "source": []
  },
  {
   "cell_type": "code",
   "execution_count": null,
   "metadata": {},
   "outputs": [],
   "source": []
  }
 ],
 "metadata": {
  "kernelspec": {
   "display_name": "Python 3",
   "language": "python",
   "name": "python3"
  },
  "language_info": {
   "codemirror_mode": {
    "name": "ipython",
    "version": 3
   },
   "file_extension": ".py",
   "mimetype": "text/x-python",
   "name": "python",
   "nbconvert_exporter": "python",
   "pygments_lexer": "ipython3",
   "version": "3.7.6"
  }
 },
 "nbformat": 4,
 "nbformat_minor": 4
}
